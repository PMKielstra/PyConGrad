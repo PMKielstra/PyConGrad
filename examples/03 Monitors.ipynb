{
 "cells": [
  {
   "cell_type": "code",
   "execution_count": 1,
   "id": "32657fd3-a26e-46a5-b927-05f07b7df39d",
   "metadata": {},
   "outputs": [],
   "source": [
    "import numpy as np\n",
    "\n",
    "from congrad.numpy import cg_batch"
   ]
  },
  {
   "cell_type": "code",
   "execution_count": 2,
   "id": "56a742d7-97cd-4be1-9399-7e9040e626c6",
   "metadata": {},
   "outputs": [],
   "source": [
    "N = 100\n",
    "X = np.random.rand(N, N)\n",
    "def A(b):\n",
    "    return np.einsum(\"ij,jk,bk->bi\", X, X.T, b) + 0.001 * b\n",
    "b = np.random.rand(1, N)"
   ]
  },
  {
   "cell_type": "markdown",
   "id": "8967060d-0728-4d38-8547-516615ee4e67",
   "metadata": {},
   "source": [
    "# Monitors"
   ]
  },
  {
   "cell_type": "markdown",
   "id": "e460fce6-80fa-4535-b8af-04c21a8b8ae4",
   "metadata": {},
   "source": [
    "Some solves are instantaneous.  For everything else, there's monitors.  You can turn monitoring on or off with a boolean parameter."
   ]
  },
  {
   "cell_type": "code",
   "execution_count": 3,
   "id": "5c599700-ba97-4a8b-80e5-43c21e89cad8",
   "metadata": {},
   "outputs": [],
   "source": [
    "solution, info = cg_batch(A, b)"
   ]
  },
  {
   "cell_type": "code",
   "execution_count": 4,
   "id": "f2ee6b65-5941-446e-9c01-2c51ab22c52a",
   "metadata": {},
   "outputs": [
    {
     "name": "stdout",
     "output_type": "stream",
     "text": [
      "020: 2.14183e+00 (2.12655e-02 seconds)\n",
      "040: 9.09849e+00 (4.25398e-02 seconds)\n",
      "060: 7.80846e-01 (6.40061e-02 seconds)\n",
      "080: 1.08674e+00 (8.35798e-02 seconds)\n",
      "100: 9.78543e-01 (1.02997e-01 seconds)\n",
      "120: 6.34920e-01 (1.23687e-01 seconds)\n",
      "140: 8.85905e-01 (1.43624e-01 seconds)\n",
      "160: 1.27835e-01 (1.63251e-01 seconds)\n",
      "Finished in 1.80910e-01 seconds after 177 iterations (9.78385e+02 iterations/second) with a maximum residual of 1.77975e-03.\n"
     ]
    }
   ],
   "source": [
    "solution_monitor, info_monitor = cg_batch(A, b, monitor=True)"
   ]
  },
  {
   "cell_type": "code",
   "execution_count": 5,
   "id": "6d79175f-2cf0-4efc-a08e-3eab8de542a1",
   "metadata": {},
   "outputs": [
    {
     "data": {
      "text/plain": [
       "np.float64(0.0)"
      ]
     },
     "execution_count": 5,
     "metadata": {},
     "output_type": "execute_result"
    }
   ],
   "source": [
    "np.linalg.norm(solution - solution_monitor)"
   ]
  },
  {
   "cell_type": "markdown",
   "id": "2aad9b5e-5c62-4c4c-a532-ed5635b4f80c",
   "metadata": {},
   "source": [
    "The default monitor prints every 20 iterations.  To choose a different interval, you can create a new instance of the `DefaultMonitor` class."
   ]
  },
  {
   "cell_type": "code",
   "execution_count": 6,
   "id": "26cce470-c69c-491e-b7be-45d3f7518a5c",
   "metadata": {},
   "outputs": [
    {
     "name": "stdout",
     "output_type": "stream",
     "text": [
      "030: 1.55301e+00 (3.26421e-02 seconds)\n",
      "060: 7.80846e-01 (6.33540e-02 seconds)\n",
      "090: 1.70693e+00 (9.25646e-02 seconds)\n",
      "120: 6.34920e-01 (1.23288e-01 seconds)\n",
      "150: 4.45811e-01 (1.53838e-01 seconds)\n",
      "Finished in 1.84014e-01 seconds after 177 iterations (9.61884e+02 iterations/second) with a maximum residual of 1.77975e-03.\n"
     ]
    }
   ],
   "source": [
    "from congrad.monitoring import DefaultMonitor\n",
    "solution, info = cg_batch(A, b, monitor=DefaultMonitor(30))"
   ]
  },
  {
   "cell_type": "markdown",
   "id": "c2acf320-0a5d-4673-bf7f-809bb0860d57",
   "metadata": {},
   "source": [
    "PyConGrad also provides `ProgressBarMonitor` out of the box, which is powered by [tqdm](https://tqdm.github.io/).  It uses the `maxiter` parameter to determine the length of the progress bar it shows, so, with luck, it won't reach 100% before convergence."
   ]
  },
  {
   "cell_type": "code",
   "execution_count": 7,
   "id": "476fe563-66a6-495a-ba80-06f6e60cae70",
   "metadata": {},
   "outputs": [
    {
     "name": "stderr",
     "output_type": "stream",
     "text": [
      " 18%|██████▊                               | 178/1000 [00:00<00:00, 1017.38it/s]\n",
      "100%|███████████████████████████████████████| 178/178 [00:00<00:00, 1035.85it/s]\n",
      "178it [00:00, 1022.43it/s]\n"
     ]
    }
   ],
   "source": [
    "from congrad.monitoring import ProgressBarMonitor\n",
    "pbm = ProgressBarMonitor() # You can reuse monitor instances!  (Well-written ones, anyway.)\n",
    "solution, info = cg_batch(A, b, monitor=pbm)\n",
    "solution, info = cg_batch(A, b, maxiter=info[\"niter\"] + 1, monitor=pbm)\n",
    "solution, info = cg_batch(A, b, maxiter=None, monitor=pbm)"
   ]
  },
  {
   "cell_type": "markdown",
   "id": "41204e03-90a9-41e2-af12-5483274c8281",
   "metadata": {},
   "source": [
    "# Custom Monitors"
   ]
  },
  {
   "cell_type": "markdown",
   "id": "30d16139-725a-4ac5-8f0f-a9dc76ced3e6",
   "metadata": {},
   "source": [
    "Monitors are good for more than printing status.  If you want to change the preconditioner halfway through your solve, a monitor can do that.  If you want to store intermediate solutions in an offsite backup, a monitor can do that.  Here, we collect residual norms throughout the solve and then plot them at the end to show convergence.\n",
    "\n",
    "We use the NumPy backend but this works just as well with PyTorch."
   ]
  },
  {
   "cell_type": "code",
   "execution_count": 8,
   "id": "a40c6cca-8a3e-403a-9e5a-b1c2efbb1f5e",
   "metadata": {},
   "outputs": [],
   "source": [
    "import matplotlib.pyplot as plt\n",
    "\n",
    "from congrad.monitoring import Monitor"
   ]
  },
  {
   "cell_type": "code",
   "execution_count": 9,
   "id": "f5a56a27-5c6c-43f0-a07f-1b3adabb30f6",
   "metadata": {},
   "outputs": [],
   "source": [
    "class PlotMonitor(Monitor):\n",
    "    def setup(self, stop_at, maxiter): # IMPORTANT: Do all initialization in setup rather than in __init__.\n",
    "                                       # The former is called once per solve; the latter is called once overall.\n",
    "        # stop_at: the maximum absolute error (calculated as max(|b| * rtol, atol) acceptable\n",
    "        # maxiter: the maximum number of iterations allowable in this particular solve\n",
    "        self.residuals = []\n",
    "\n",
    "    def step(self, iteration, res_norm, x, is_end):\n",
    "        # iteration: which iteration this is\n",
    "        # res_norm: the current residual norm, as processed by the backend's presentable_norm function\n",
    "        # x: the current candidate solution\n",
    "        # is_end: True if, for some reason (convergence or iteration bound), this is the last iteration; False otherwise.\n",
    "        self.residuals.append(res_norm)\n",
    "        if is_end:\n",
    "            plt.loglog(self.residuals)\n",
    "            plt.show()"
   ]
  },
  {
   "cell_type": "code",
   "execution_count": 10,
   "id": "ac58b164-ee33-430e-83ed-2d7fb7f88c56",
   "metadata": {},
   "outputs": [
    {
     "data": {
      "image/png": "[encoded data removed]",
      "text/plain": [
       "<Figure size 640x480 with 1 Axes>"
      ]
     },
     "metadata": {},
     "output_type": "display_data"
    }
   ],
   "source": [
    "_solve, _info = cg_batch(A, b, rtol=1e-8, monitor=PlotMonitor())"
   ]
  }
 ],
 "metadata": {
  "kernelspec": {
   "display_name": "Python 3 (ipykernel)",
   "language": "python",
   "name": "python3"
  },
  "language_info": {
   "codemirror_mode": {
    "name": "ipython",
    "version": 3
   },
   "file_extension": ".py",
   "mimetype": "text/x-python",
   "name": "python",
   "nbconvert_exporter": "python",
   "pygments_lexer": "ipython3",
   "version": "3.11.6"
  }
 },
 "nbformat": 4,
 "nbformat_minor": 5
}
