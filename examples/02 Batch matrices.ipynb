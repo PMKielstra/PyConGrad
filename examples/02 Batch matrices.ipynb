{
 "cells": [
  {
   "cell_type": "code",
   "execution_count": 1,
   "id": "c0e54a62-5da9-4191-a4b3-0ba2eba81730",
   "metadata": {},
   "outputs": [],
   "source": [
    "import torch\n",
    "torch.set_default_dtype(torch.float64)\n",
    "\n",
    "from src.congrad import cg_batch_generic\n",
    "from src.congrad.torch import TorchBackend"
   ]
  },
  {
   "cell_type": "markdown",
   "id": "0e0e6850-6d0d-4e99-a3fd-a6c8932a3af0",
   "metadata": {},
   "source": [
    "This package's default backends all treat their right-hand side inputs as batches of *vectors* with arbitrarily many batch dimensions.  However, [the original](https://github.com/sbarratt/torch_cg/) treats its right-hand side inputs as batches of *matrices* with a single batch dimension.  We can use some `reshape`s inside our batch matvec function to achieve similar behavior, or, if we need exact compatibility, we can write a custom backend as we do here.\n",
    "\n",
    "In fact, since all we need to do is take norms and dot products differently, we don't even extend the default `Backend` class.  Instead, we extend `TorchBackend` and change the two functions that matter to us.\n",
    "\n",
    "Alternatively, we could have extended `Backend`, which is only a little more work."
   ]
  },
  {
   "cell_type": "code",
   "execution_count": 2,
   "id": "1fc57622-797f-475c-861b-7c08f0866d1b",
   "metadata": {},
   "outputs": [],
   "source": [
    "class TorchMatrixBackend(TorchBackend):\n",
    "    def norm(X):\n",
    "        return torch.linalg.vector_norm(X, dim=1)\n",
    "    \n",
    "    def dot(X, Y):\n",
    "        return torch.einsum(\"bij,bij->bj\", X, Y).unsqueeze(1)\n",
    "\n",
    "cg_batch = cg_batch_generic(TorchMatrixBackend)"
   ]
  },
  {
   "cell_type": "code",
   "execution_count": 3,
   "id": "fb57a316-fec4-44ea-a77f-a89163954a44",
   "metadata": {},
   "outputs": [],
   "source": [
    "matrix_batches = 2\n",
    "vector_batches = 5\n",
    "N = 100"
   ]
  },
  {
   "cell_type": "code",
   "execution_count": 4,
   "id": "5fb3048b-2e74-45ea-aafe-2bdc4ab2408f",
   "metadata": {},
   "outputs": [],
   "source": [
    "X = torch.randn(matrix_batches, N, N)\n",
    "A = torch.bmm(X, X.transpose(1, 2))\n",
    "B = torch.randn(matrix_batches, N, vector_batches)"
   ]
  },
  {
   "cell_type": "code",
   "execution_count": 5,
   "id": "1c37361f-07cf-4f43-8ae3-d236446c1a21",
   "metadata": {},
   "outputs": [],
   "source": [
    "def A_bmm(x):\n",
    "    return torch.einsum(\"bij,bjk->bik\", A, x)"
   ]
  },
  {
   "cell_type": "code",
   "execution_count": 6,
   "id": "b36cc52e-44ad-4edc-afcd-33d9cd4e209b",
   "metadata": {},
   "outputs": [
    {
     "name": "stdout",
     "output_type": "stream",
     "text": [
      "020: 9.11536e+00 (3.12042e-03 seconds)\n",
      "040: 1.69207e+01 (6.46067e-03 seconds)\n",
      "060: 2.70843e+01 (1.17743e-02 seconds)\n",
      "080: 4.94065e+01 (1.70772e-02 seconds)\n",
      "100: 3.86073e+01 (2.22566e-02 seconds)\n",
      "120: 1.72182e+01 (2.75743e-02 seconds)\n",
      "140: 5.90912e+01 (3.27470e-02 seconds)\n",
      "160: 1.78831e-05 (3.79047e-02 seconds)\n",
      "Finished in 3.81114e-02 seconds after 160 iterations (4.19821e+03 iterations/second) with a maximum residual of 6.07842e-06.\n"
     ]
    }
   ],
   "source": [
    "solution, info = cg_batch(A_bmm, B, rtol=1e-6, monitor=True)"
   ]
  },
  {
   "cell_type": "code",
   "execution_count": 7,
   "id": "dfb0f200-b817-46b8-866b-5757411c8900",
   "metadata": {},
   "outputs": [
    {
     "name": "stdout",
     "output_type": "stream",
     "text": [
      "1.0450675315219223e-09\n",
      "8.660558474604321e-07\n"
     ]
    }
   ],
   "source": [
    "for i in range(matrix_batches):\n",
    "    print((torch.linalg.matrix_norm(A[i] @ solution[i] - B[i]) / torch.linalg.matrix_norm(B[i])).item())"
   ]
  }
 ],
 "metadata": {
  "kernelspec": {
   "display_name": "Python 3 (ipykernel)",
   "language": "python",
   "name": "python3"
  },
  "language_info": {
   "codemirror_mode": {
    "name": "ipython",
    "version": 3
   },
   "file_extension": ".py",
   "mimetype": "text/x-python",
   "name": "python",
   "nbconvert_exporter": "python",
   "pygments_lexer": "ipython3",
   "version": "3.11.6"
  }
 },
 "nbformat": 4,
 "nbformat_minor": 5
}
