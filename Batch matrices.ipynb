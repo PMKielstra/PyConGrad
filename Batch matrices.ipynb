{
 "cells": [
  {
   "cell_type": "code",
   "execution_count": 1,
   "id": "c0e54a62-5da9-4191-a4b3-0ba2eba81730",
   "metadata": {},
   "outputs": [],
   "source": [
    "import torch\n",
    "torch.set_default_dtype(torch.float64)\n",
    "\n",
    "from src.congrad import *"
   ]
  },
  {
   "cell_type": "markdown",
   "id": "0e0e6850-6d0d-4e99-a3fd-a6c8932a3af0",
   "metadata": {},
   "source": [
    "This package's default backends all treat their right-hand side inputs as batches of *vectors*.  However, [the original](https://github.com/sbarratt/torch_cg/) treats its right-hand side inputs as batches of *matrices*.  This is generally more complicated to work with, so we avoid it, but it also allows for more powerful batching.  Here, we use a custom backend to recover this exact behavior for PyTorch."
   ]
  },
  {
   "cell_type": "code",
   "execution_count": 2,
   "id": "1fc57622-797f-475c-861b-7c08f0866d1b",
   "metadata": {},
   "outputs": [],
   "source": [
    "class TorchMatrixBackend(Backend):\n",
    "    def norm(X):\n",
    "        return torch.linalg.vector_norm(X, dim=1)\n",
    "    \n",
    "    def dot(X, Y):\n",
    "        return torch.einsum(\"bij,bij->bj\", X, Y).unsqueeze(1)\n",
    "\n",
    "    def all_true(X):\n",
    "        return X.all()\n",
    "\n",
    "    def max_vector_scalar(X, y):\n",
    "        if not type(X) == type(y):\n",
    "            y = torch.tensor(y).type(type(X))\n",
    "        return torch.maximum(X, y)\n",
    "\n",
    "    def presentable_norm(residual): # We don't actually have to provide this but our monitor looks a lot nicer when we do.\n",
    "        return torch.max(residual).item()\n",
    "\n",
    "cg_batch = cg_batch_generic(TorchMatrixBackend)"
   ]
  },
  {
   "cell_type": "code",
   "execution_count": 3,
   "id": "fb57a316-fec4-44ea-a77f-a89163954a44",
   "metadata": {},
   "outputs": [],
   "source": [
    "matrix_batches = 2\n",
    "vector_batches = 5\n",
    "N = 100"
   ]
  },
  {
   "cell_type": "code",
   "execution_count": 4,
   "id": "5fb3048b-2e74-45ea-aafe-2bdc4ab2408f",
   "metadata": {},
   "outputs": [],
   "source": [
    "X = torch.randn(matrix_batches, N, N)\n",
    "A = torch.bmm(X, X.transpose(1, 2))\n",
    "B = torch.randn(matrix_batches, N, vector_batches)"
   ]
  },
  {
   "cell_type": "code",
   "execution_count": 5,
   "id": "1c37361f-07cf-4f43-8ae3-d236446c1a21",
   "metadata": {},
   "outputs": [],
   "source": [
    "def A_bmm(x):\n",
    "    return torch.einsum(\"bij,bjk->bik\", A, x)"
   ]
  },
  {
   "cell_type": "code",
   "execution_count": 6,
   "id": "b36cc52e-44ad-4edc-afcd-33d9cd4e209b",
   "metadata": {},
   "outputs": [
    {
     "name": "stdout",
     "output_type": "stream",
     "text": [
      "020: 1.64440e+01 (5.13959e-03 seconds)\n",
      "040: 1.96133e+01 (1.01542e-02 seconds)\n",
      "060: 3.00728e+01 (1.43580e-02 seconds)\n",
      "080: 3.47338e+01 (1.79937e-02 seconds)\n",
      "100: 2.00813e+01 (2.20690e-02 seconds)\n",
      "120: 2.21640e+01 (2.66073e-02 seconds)\n",
      "140: 1.15412e+01 (3.08127e-02 seconds)\n",
      "Finished in 3.76298e-02 seconds after 158 iterations (4.19880e+03 iterations/second) with a maximum residual of 3.42252e-06.\n"
     ]
    }
   ],
   "source": [
    "solution, info = cg_batch(A_bmm, B, rtol=1e-6, monitor=True)"
   ]
  },
  {
   "cell_type": "code",
   "execution_count": 7,
   "id": "dfb0f200-b817-46b8-866b-5757411c8900",
   "metadata": {},
   "outputs": [
    {
     "name": "stdout",
     "output_type": "stream",
     "text": [
      "7.577851584112634e-07\n",
      "1.9529075409704955e-07\n"
     ]
    }
   ],
   "source": [
    "for i in range(matrix_batches):\n",
    "    print((torch.linalg.matrix_norm(A[i] @ solution[i] - B[i]) / torch.linalg.matrix_norm(B[i])).item())"
   ]
  },
  {
   "cell_type": "code",
   "execution_count": null,
   "id": "286d6f98-4c2f-45e1-8fac-565d1c37c8ef",
   "metadata": {},
   "outputs": [],
   "source": []
  }
 ],
 "metadata": {
  "kernelspec": {
   "display_name": "Python 3 (ipykernel)",
   "language": "python",
   "name": "python3"
  },
  "language_info": {
   "codemirror_mode": {
    "name": "ipython",
    "version": 3
   },
   "file_extension": ".py",
   "mimetype": "text/x-python",
   "name": "python",
   "nbconvert_exporter": "python",
   "pygments_lexer": "ipython3",
   "version": "3.11.6"
  }
 },
 "nbformat": 4,
 "nbformat_minor": 5
}
